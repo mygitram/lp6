{
 "cells": [
  {
   "cell_type": "code",
   "execution_count": 1,
   "id": "28a778e6",
   "metadata": {},
   "outputs": [],
   "source": [
    "from tensorflow.keras.preprocessing.image import ImageDataGenerator, load_img, img_to_array"
   ]
  },
  {
   "cell_type": "code",
   "execution_count": 5,
   "id": "9e19db54",
   "metadata": {},
   "outputs": [],
   "source": [
    "train_dir = \"./archive/tomato/train\"\n",
    "val_dir = \"./archive/tomato/val\""
   ]
  },
  {
   "cell_type": "code",
   "execution_count": 6,
   "id": "ad8b3100",
   "metadata": {},
   "outputs": [],
   "source": [
    "img_size = 224\n",
    "batch_size = 32"
   ]
  },
  {
   "cell_type": "code",
   "execution_count": 7,
   "id": "483bb7d2",
   "metadata": {},
   "outputs": [
    {
     "name": "stdout",
     "output_type": "stream",
     "text": [
      "Found 10000 images belonging to 10 classes.\n"
     ]
    }
   ],
   "source": [
    "train_datagen = ImageDataGenerator(rescale= 1./255)\n",
    "train_generator = train_datagen.flow_from_directory(train_dir, target_size = (img_size,img_size), batch_size = batch_size, class_mode = 'categorical')"
   ]
  },
  {
   "cell_type": "code",
   "execution_count": 8,
   "id": "f226b5f3",
   "metadata": {},
   "outputs": [
    {
     "name": "stdout",
     "output_type": "stream",
     "text": [
      "Found 984 images belonging to 10 classes.\n"
     ]
    }
   ],
   "source": [
    "val_datagen = ImageDataGenerator(rescale= 1./255)\n",
    "val_generator = val_datagen.flow_from_directory(val_dir, target_size = (img_size,img_size), batch_size = batch_size, class_mode = 'categorical')"
   ]
  },
  {
   "cell_type": "code",
   "execution_count": 9,
   "id": "af911928",
   "metadata": {},
   "outputs": [
    {
     "data": {
      "text/plain": [
       "['Tomato___Bacterial_spot',\n",
       " 'Tomato___Early_blight',\n",
       " 'Tomato___Late_blight',\n",
       " 'Tomato___Leaf_Mold',\n",
       " 'Tomato___Septoria_leaf_spot',\n",
       " 'Tomato___Spider_mites Two-spotted_spider_mite',\n",
       " 'Tomato___Target_Spot',\n",
       " 'Tomato___Tomato_Yellow_Leaf_Curl_Virus',\n",
       " 'Tomato___Tomato_mosaic_virus',\n",
       " 'Tomato___healthy']"
      ]
     },
     "execution_count": 9,
     "metadata": {},
     "output_type": "execute_result"
    }
   ],
   "source": [
    "list(train_generator.class_indices)"
   ]
  },
  {
   "cell_type": "code",
   "execution_count": 10,
   "id": "c4fc5346",
   "metadata": {},
   "outputs": [],
   "source": [
    "from tensorflow.keras.models import Sequential\n",
    "from tensorflow.keras.layers import Conv2D, MaxPooling2D, Flatten, Dense, Dropout, BatchNormalization"
   ]
  },
  {
   "cell_type": "code",
   "execution_count": 11,
   "id": "286bd1c6",
   "metadata": {},
   "outputs": [
    {
     "name": "stdout",
     "output_type": "stream",
     "text": [
      "Model: \"sequential\"\n",
      "_________________________________________________________________\n",
      " Layer (type)                Output Shape              Param #   \n",
      "=================================================================\n",
      " conv2d (Conv2D)             (None, 222, 222, 32)      896       \n",
      "                                                                 \n",
      " batch_normalization (Batch  (None, 222, 222, 32)      128       \n",
      " Normalization)                                                  \n",
      "                                                                 \n",
      " max_pooling2d (MaxPooling2  (None, 111, 111, 32)      0         \n",
      " D)                                                              \n",
      "                                                                 \n",
      " conv2d_1 (Conv2D)           (None, 109, 109, 64)      18496     \n",
      "                                                                 \n",
      " batch_normalization_1 (Bat  (None, 109, 109, 64)      256       \n",
      " chNormalization)                                                \n",
      "                                                                 \n",
      " max_pooling2d_1 (MaxPoolin  (None, 54, 54, 64)        0         \n",
      " g2D)                                                            \n",
      "                                                                 \n",
      " conv2d_2 (Conv2D)           (None, 52, 52, 64)        36928     \n",
      "                                                                 \n",
      " batch_normalization_2 (Bat  (None, 52, 52, 64)        256       \n",
      " chNormalization)                                                \n",
      "                                                                 \n",
      " max_pooling2d_2 (MaxPoolin  (None, 26, 26, 64)        0         \n",
      " g2D)                                                            \n",
      "                                                                 \n",
      " conv2d_3 (Conv2D)           (None, 24, 24, 128)       73856     \n",
      "                                                                 \n",
      " batch_normalization_3 (Bat  (None, 24, 24, 128)       512       \n",
      " chNormalization)                                                \n",
      "                                                                 \n",
      " max_pooling2d_3 (MaxPoolin  (None, 12, 12, 128)       0         \n",
      " g2D)                                                            \n",
      "                                                                 \n",
      " flatten (Flatten)           (None, 18432)             0         \n",
      "                                                                 \n",
      " dense (Dense)               (None, 128)               2359424   \n",
      "                                                                 \n",
      " dropout (Dropout)           (None, 128)               0         \n",
      "                                                                 \n",
      " dense_1 (Dense)             (None, 64)                8256      \n",
      "                                                                 \n",
      " dense_2 (Dense)             (None, 10)                650       \n",
      "                                                                 \n",
      "=================================================================\n",
      "Total params: 2499658 (9.54 MB)\n",
      "Trainable params: 2499082 (9.53 MB)\n",
      "Non-trainable params: 576 (2.25 KB)\n",
      "_________________________________________________________________\n"
     ]
    }
   ],
   "source": [
    "model = Sequential()\n",
    "\n",
    "model.add((Conv2D(32, (3,3), activation = 'relu', input_shape = (img_size, img_size, 3))))\n",
    "model.add(BatchNormalization())\n",
    "model.add((MaxPooling2D(2,2)))\n",
    "model.add((Conv2D(64, (3,3), activation = 'relu')))\n",
    "model.add(BatchNormalization())\n",
    "model.add((MaxPooling2D(2,2)))\n",
    "model.add((Conv2D(64, (3,3), activation = 'relu')))\n",
    "model.add(BatchNormalization())\n",
    "model.add((MaxPooling2D(2,2)))\n",
    "model.add((Conv2D(128, (3,3), activation = 'relu')))\n",
    "model.add(BatchNormalization())\n",
    "model.add((MaxPooling2D(2,2)))\n",
    "\n",
    "model.add(Flatten())\n",
    "\n",
    "model.add((Dense(128, activation = 'relu')))\n",
    "model.add((Dropout(0.2)))\n",
    "model.add((Dense(64, activation = 'relu')))\n",
    "model.add((Dense(train_generator.num_classes, activation = 'softmax')))\n",
    "\n",
    "model.summary()"
   ]
  },
  {
   "cell_type": "code",
   "execution_count": 12,
   "id": "cc436581",
   "metadata": {},
   "outputs": [],
   "source": [
    "model.compile(optimizer = 'adam', loss = 'categorical_crossentropy', metrics = ['accuracy'])"
   ]
  },
  {
   "cell_type": "code",
   "execution_count": 13,
   "id": "81a985ca",
   "metadata": {},
   "outputs": [
    {
     "name": "stdout",
     "output_type": "stream",
     "text": [
      "Epoch 1/2\n",
      "313/313 [==============================] - 474s 1s/step - loss: 1.3559 - accuracy: 0.5969 - val_loss: 9.4988 - val_accuracy: 0.1951\n",
      "Epoch 2/2\n",
      "183/313 [================>.............] - ETA: 3:05 - loss: 0.8424 - accuracy: 0.7264"
     ]
    },
    {
     "ename": "UnknownError",
     "evalue": "Graph execution error:\n\nFileNotFoundError: [Errno 2] No such file or directory: './archive/tomato/train\\\\Tomato___Late_blight\\\\e3df7441-295f-4a70-833c-4127b5b738d5___GHLB2 Leaf 8760.JPG'\nTraceback (most recent call last):\n\n  File \"c:\\Users\\Abhi\\anaconda3\\lib\\site-packages\\tensorflow\\python\\ops\\script_ops.py\", line 268, in __call__\n    ret = func(*args)\n\n  File \"c:\\Users\\Abhi\\anaconda3\\lib\\site-packages\\tensorflow\\python\\autograph\\impl\\api.py\", line 643, in wrapper\n    return func(*args, **kwargs)\n\n  File \"c:\\Users\\Abhi\\anaconda3\\lib\\site-packages\\tensorflow\\python\\data\\ops\\from_generator_op.py\", line 198, in generator_py_func\n    values = next(generator_state.get_iterator(iterator_id))\n\n  File \"c:\\Users\\Abhi\\anaconda3\\lib\\site-packages\\keras\\src\\engine\\data_adapter.py\", line 917, in wrapped_generator\n    for data in generator_fn():\n\n  File \"c:\\Users\\Abhi\\anaconda3\\lib\\site-packages\\keras\\src\\engine\\data_adapter.py\", line 1064, in generator_fn\n    yield x[i]\n\n  File \"c:\\Users\\Abhi\\anaconda3\\lib\\site-packages\\keras\\src\\preprocessing\\image.py\", line 116, in __getitem__\n    return self._get_batches_of_transformed_samples(index_array)\n\n  File \"c:\\Users\\Abhi\\anaconda3\\lib\\site-packages\\keras\\src\\preprocessing\\image.py\", line 370, in _get_batches_of_transformed_samples\n    img = image_utils.load_img(\n\n  File \"c:\\Users\\Abhi\\anaconda3\\lib\\site-packages\\keras\\src\\utils\\image_utils.py\", line 422, in load_img\n    with open(path, \"rb\") as f:\n\nFileNotFoundError: [Errno 2] No such file or directory: './archive/tomato/train\\\\Tomato___Late_blight\\\\e3df7441-295f-4a70-833c-4127b5b738d5___GHLB2 Leaf 8760.JPG'\n\n\n\t [[{{node PyFunc}}]]\n\t [[IteratorGetNext]] [Op:__inference_train_function_2995]",
     "output_type": "error",
     "traceback": [
      "\u001b[1;31m---------------------------------------------------------------------------\u001b[0m",
      "\u001b[1;31mUnknownError\u001b[0m                              Traceback (most recent call last)",
      "Cell \u001b[1;32mIn[13], line 1\u001b[0m\n\u001b[1;32m----> 1\u001b[0m \u001b[43mmodel\u001b[49m\u001b[38;5;241;43m.\u001b[39;49m\u001b[43mfit\u001b[49m\u001b[43m(\u001b[49m\u001b[43mtrain_generator\u001b[49m\u001b[43m,\u001b[49m\u001b[43m \u001b[49m\u001b[43mepochs\u001b[49m\u001b[43m \u001b[49m\u001b[38;5;241;43m=\u001b[39;49m\u001b[43m \u001b[49m\u001b[38;5;241;43m2\u001b[39;49m\u001b[43m,\u001b[49m\u001b[43m \u001b[49m\u001b[43mvalidation_data\u001b[49m\u001b[38;5;241;43m=\u001b[39;49m\u001b[43m \u001b[49m\u001b[43mval_generator\u001b[49m\u001b[43m)\u001b[49m\n",
      "File \u001b[1;32mc:\\Users\\Abhi\\anaconda3\\lib\\site-packages\\keras\\src\\utils\\traceback_utils.py:70\u001b[0m, in \u001b[0;36mfilter_traceback.<locals>.error_handler\u001b[1;34m(*args, **kwargs)\u001b[0m\n\u001b[0;32m     67\u001b[0m     filtered_tb \u001b[38;5;241m=\u001b[39m _process_traceback_frames(e\u001b[38;5;241m.\u001b[39m__traceback__)\n\u001b[0;32m     68\u001b[0m     \u001b[38;5;66;03m# To get the full stack trace, call:\u001b[39;00m\n\u001b[0;32m     69\u001b[0m     \u001b[38;5;66;03m# `tf.debugging.disable_traceback_filtering()`\u001b[39;00m\n\u001b[1;32m---> 70\u001b[0m     \u001b[38;5;28;01mraise\u001b[39;00m e\u001b[38;5;241m.\u001b[39mwith_traceback(filtered_tb) \u001b[38;5;28;01mfrom\u001b[39;00m \u001b[38;5;28;01mNone\u001b[39;00m\n\u001b[0;32m     71\u001b[0m \u001b[38;5;28;01mfinally\u001b[39;00m:\n\u001b[0;32m     72\u001b[0m     \u001b[38;5;28;01mdel\u001b[39;00m filtered_tb\n",
      "File \u001b[1;32mc:\\Users\\Abhi\\anaconda3\\lib\\site-packages\\tensorflow\\python\\eager\\execute.py:53\u001b[0m, in \u001b[0;36mquick_execute\u001b[1;34m(op_name, num_outputs, inputs, attrs, ctx, name)\u001b[0m\n\u001b[0;32m     51\u001b[0m \u001b[38;5;28;01mtry\u001b[39;00m:\n\u001b[0;32m     52\u001b[0m   ctx\u001b[38;5;241m.\u001b[39mensure_initialized()\n\u001b[1;32m---> 53\u001b[0m   tensors \u001b[38;5;241m=\u001b[39m pywrap_tfe\u001b[38;5;241m.\u001b[39mTFE_Py_Execute(ctx\u001b[38;5;241m.\u001b[39m_handle, device_name, op_name,\n\u001b[0;32m     54\u001b[0m                                       inputs, attrs, num_outputs)\n\u001b[0;32m     55\u001b[0m \u001b[38;5;28;01mexcept\u001b[39;00m core\u001b[38;5;241m.\u001b[39m_NotOkStatusException \u001b[38;5;28;01mas\u001b[39;00m e:\n\u001b[0;32m     56\u001b[0m   \u001b[38;5;28;01mif\u001b[39;00m name \u001b[38;5;129;01mis\u001b[39;00m \u001b[38;5;129;01mnot\u001b[39;00m \u001b[38;5;28;01mNone\u001b[39;00m:\n",
      "\u001b[1;31mUnknownError\u001b[0m: Graph execution error:\n\nFileNotFoundError: [Errno 2] No such file or directory: './archive/tomato/train\\\\Tomato___Late_blight\\\\e3df7441-295f-4a70-833c-4127b5b738d5___GHLB2 Leaf 8760.JPG'\nTraceback (most recent call last):\n\n  File \"c:\\Users\\Abhi\\anaconda3\\lib\\site-packages\\tensorflow\\python\\ops\\script_ops.py\", line 268, in __call__\n    ret = func(*args)\n\n  File \"c:\\Users\\Abhi\\anaconda3\\lib\\site-packages\\tensorflow\\python\\autograph\\impl\\api.py\", line 643, in wrapper\n    return func(*args, **kwargs)\n\n  File \"c:\\Users\\Abhi\\anaconda3\\lib\\site-packages\\tensorflow\\python\\data\\ops\\from_generator_op.py\", line 198, in generator_py_func\n    values = next(generator_state.get_iterator(iterator_id))\n\n  File \"c:\\Users\\Abhi\\anaconda3\\lib\\site-packages\\keras\\src\\engine\\data_adapter.py\", line 917, in wrapped_generator\n    for data in generator_fn():\n\n  File \"c:\\Users\\Abhi\\anaconda3\\lib\\site-packages\\keras\\src\\engine\\data_adapter.py\", line 1064, in generator_fn\n    yield x[i]\n\n  File \"c:\\Users\\Abhi\\anaconda3\\lib\\site-packages\\keras\\src\\preprocessing\\image.py\", line 116, in __getitem__\n    return self._get_batches_of_transformed_samples(index_array)\n\n  File \"c:\\Users\\Abhi\\anaconda3\\lib\\site-packages\\keras\\src\\preprocessing\\image.py\", line 370, in _get_batches_of_transformed_samples\n    img = image_utils.load_img(\n\n  File \"c:\\Users\\Abhi\\anaconda3\\lib\\site-packages\\keras\\src\\utils\\image_utils.py\", line 422, in load_img\n    with open(path, \"rb\") as f:\n\nFileNotFoundError: [Errno 2] No such file or directory: './archive/tomato/train\\\\Tomato___Late_blight\\\\e3df7441-295f-4a70-833c-4127b5b738d5___GHLB2 Leaf 8760.JPG'\n\n\n\t [[{{node PyFunc}}]]\n\t [[IteratorGetNext]] [Op:__inference_train_function_2995]"
     ]
    }
   ],
   "source": [
    "model.fit(train_generator, epochs = 2, validation_data= val_generator)"
   ]
  },
  {
   "cell_type": "code",
   "execution_count": 24,
   "id": "5beb388d",
   "metadata": {},
   "outputs": [
    {
     "name": "stdout",
     "output_type": "stream",
     "text": [
      "\u001b[1m32/32\u001b[0m \u001b[32m━━━━━━━━━━━━━━━━━━━━\u001b[0m\u001b[37m\u001b[0m \u001b[1m10s\u001b[0m 297ms/step - accuracy: 0.7680 - loss: 0.8586\n",
      "Loss:  0.9359602928161621\n",
      "Accuracy 75.80000162124634\n"
     ]
    }
   ],
   "source": [
    "loss, accuracy = model.evaluate(val_generator)\n",
    "print(\"Loss: \", loss)\n",
    "print('Accuracy', accuracy * 100) "
   ]
  },
  {
   "cell_type": "code",
   "execution_count": 27,
   "id": "da27f543",
   "metadata": {},
   "outputs": [],
   "source": [
    "import numpy as np \n",
    "import matplotlib as plt\n",
    "img_path = \"./archive/tomato/val/Tomato___Septoria_leaf_spot/0a25f893-1b5f-4845-baa1-f68ac03d96ac___Matt.S_CG 7863.jpg\"\n",
    "\n",
    "img = load_img(img_path, target_size = (224,224))\n",
    "img_array = img_to_array(img)\n",
    "img_array = np.expand_dims(img_array,axis = 0)\n",
    "img_array /= 255\n"
   ]
  },
  {
   "cell_type": "code",
   "execution_count": 28,
   "id": "490fd541",
   "metadata": {},
   "outputs": [
    {
     "name": "stdout",
     "output_type": "stream",
     "text": [
      "\u001b[1m1/1\u001b[0m \u001b[32m━━━━━━━━━━━━━━━━━━━━\u001b[0m\u001b[37m\u001b[0m \u001b[1m0s\u001b[0m 272ms/step\n"
     ]
    }
   ],
   "source": [
    "prediction = model.predict(img_array)\n",
    "class_name = ['Tomato___Bacterial_spot',\n",
    " 'Tomato___Early_blight',\n",
    " 'Tomato___Late_blight',\n",
    " 'Tomato___Leaf_Mold',\n",
    " 'Tomato___Septoria_leaf_spot',\n",
    " 'Tomato___Spider_mites Two-spotted_spider_mite',\n",
    " 'Tomato___Target_Spot',\n",
    " 'Tomato___Tomato_Yellow_Leaf_Curl_Virus',\n",
    " 'Tomato___Tomato_mosaic_virus',\n",
    " 'Tomato___healthy']\n"
   ]
  },
  {
   "cell_type": "code",
   "execution_count": 29,
   "id": "00031477",
   "metadata": {},
   "outputs": [
    {
     "name": "stdout",
     "output_type": "stream",
     "text": [
      "[[1.4379144e-07 1.1605932e-06 1.3313984e-04 1.0966674e-01 8.8868576e-01\n",
      "  8.6827276e-06 2.2626270e-07 1.8650462e-10 1.3861944e-03 1.1796819e-04]]\n",
      "4\n",
      "Class Name:  Tomato___Septoria_leaf_spot\n"
     ]
    }
   ],
   "source": [
    "predicted_class = np.argmax(prediction)\n",
    "\n",
    "print(prediction)\n",
    "print(predicted_class)\n",
    "print(\"Class Name: \", class_name[predicted_class])"
   ]
  }
 ],
 "metadata": {
  "kernelspec": {
   "display_name": "base",
   "language": "python",
   "name": "python3"
  },
  "language_info": {
   "codemirror_mode": {
    "name": "ipython",
    "version": 3
   },
   "file_extension": ".py",
   "mimetype": "text/x-python",
   "name": "python",
   "nbconvert_exporter": "python",
   "pygments_lexer": "ipython3",
   "version": "3.8.8"
  }
 },
 "nbformat": 4,
 "nbformat_minor": 5
}
